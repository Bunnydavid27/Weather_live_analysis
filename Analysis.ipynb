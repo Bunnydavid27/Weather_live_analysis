{
 "cells": [
  {
   "cell_type": "code",
   "execution_count": 1,
   "metadata": {},
   "outputs": [],
   "source": [
    "import json\n",
    "from datetime import datetime\n",
    "import requests\n",
    "import boto3\n",
    "from decimal import Decimal"
   ]
  },
  {
   "cell_type": "code",
   "execution_count": 2,
   "metadata": {},
   "outputs": [],
   "source": [
    "def extract_weather_data(city):\n",
    "    api_url = ' http://api.weatherapi.com/v1/current.json'\n",
    "    params ={\n",
    "        'q': city,\n",
    "        'key':'bc81dfccceb64e2db03162415242208'\n",
    "    }\n",
    "    response = requests.get(api_url, params=params)\n",
    "    data = response.json()\n",
    "    return data"
   ]
  },
  {
   "cell_type": "code",
   "execution_count": 3,
   "metadata": {},
   "outputs": [
    {
     "name": "stdout",
     "output_type": "stream",
     "text": [
      "Enter Your City Name For Weather InformationVisakhapatnam\n"
     ]
    }
   ],
   "source": [
    "city = input('Enter Your City Name For Weather Information')"
   ]
  },
  {
   "cell_type": "code",
   "execution_count": 4,
   "metadata": {},
   "outputs": [],
   "source": [
    "weather_data = extract_weather_data(city)"
   ]
  },
  {
   "cell_type": "code",
   "execution_count": 5,
   "metadata": {},
   "outputs": [
    {
     "data": {
      "text/plain": [
       "{'location': {'name': 'Visakhapatnam',\n",
       "  'region': 'Andhra Pradesh',\n",
       "  'country': 'India',\n",
       "  'lat': 17.7,\n",
       "  'lon': 83.3,\n",
       "  'tz_id': 'Asia/Kolkata',\n",
       "  'localtime_epoch': 1724353981,\n",
       "  'localtime': '2024-08-23 00:43'},\n",
       " 'current': {'last_updated_epoch': 1724353200,\n",
       "  'last_updated': '2024-08-23 00:30',\n",
       "  'temp_c': 27.9,\n",
       "  'temp_f': 82.1,\n",
       "  'is_day': 0,\n",
       "  'condition': {'text': 'Partly Cloudy',\n",
       "   'icon': '//cdn.weatherapi.com/weather/64x64/night/116.png',\n",
       "   'code': 1003},\n",
       "  'wind_mph': 14.8,\n",
       "  'wind_kph': 23.8,\n",
       "  'wind_degree': 239,\n",
       "  'wind_dir': 'WSW',\n",
       "  'pressure_mb': 1005.0,\n",
       "  'pressure_in': 29.69,\n",
       "  'precip_mm': 0.0,\n",
       "  'precip_in': 0.0,\n",
       "  'humidity': 77,\n",
       "  'cloud': 57,\n",
       "  'feelslike_c': 31.5,\n",
       "  'feelslike_f': 88.8,\n",
       "  'windchill_c': 27.9,\n",
       "  'windchill_f': 82.1,\n",
       "  'heatindex_c': 31.5,\n",
       "  'heatindex_f': 88.8,\n",
       "  'dewpoint_c': 23.4,\n",
       "  'dewpoint_f': 74.1,\n",
       "  'vis_km': 10.0,\n",
       "  'vis_miles': 6.0,\n",
       "  'uv': 1.0,\n",
       "  'gust_mph': 20.5,\n",
       "  'gust_kph': 33.0}}"
      ]
     },
     "execution_count": 5,
     "metadata": {},
     "output_type": "execute_result"
    }
   ],
   "source": [
    "weather_data"
   ]
  },
  {
   "cell_type": "code",
   "execution_count": null,
   "metadata": {},
   "outputs": [],
   "source": []
  }
 ],
 "metadata": {
  "kernelspec": {
   "display_name": "Python 3 (ipykernel)",
   "language": "python",
   "name": "python3"
  },
  "language_info": {
   "codemirror_mode": {
    "name": "ipython",
    "version": 3
   },
   "file_extension": ".py",
   "mimetype": "text/x-python",
   "name": "python",
   "nbconvert_exporter": "python",
   "pygments_lexer": "ipython3",
   "version": "3.9.13"
  }
 },
 "nbformat": 4,
 "nbformat_minor": 2
}
